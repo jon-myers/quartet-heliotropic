{
 "cells": [
  {
   "cell_type": "markdown",
   "metadata": {},
   "source": [
    "<h1>viiivvi<h1>\n",
    "<h2>parameter Curves</h2>\n",
    "<h4> Commissioned by Ensemble IPSE\n",
    "<h4>Polansky/Kant</h4>\n",
    "<h5>3.17</h5>\n"
   ]
  },
  {
   "cell_type": "code",
   "execution_count": 10,
   "metadata": {
    "collapsed": false
   },
   "outputs": [],
   "source": [
    "# imports\n",
    "import random\n",
    "import math\n",
    "import matplotlib.pyplot as plt\n",
    "import pretty_midi\n",
    "import midi\n",
    "%matplotlib inline"
   ]
  },
  {
   "cell_type": "code",
   "execution_count": 11,
   "metadata": {
    "collapsed": false
   },
   "outputs": [],
   "source": [
    "# linear intepolation between two values\n",
    "def lin_interp(t, v1, v2): \n",
    "    return (float(v2-v1)*t)+v1\n",
    "\n",
    "# half cosine intepolation between two points\n",
    "def hcos_interp(t, v1=0, v2=1): \n",
    "    return (v1+v2)/2.0 + ((v1-v2)/2.0)*math.cos(math.pi*t)\n",
    "\n",
    "# exponential intepolation between two points\n",
    "def exp_interp(t, v1, v2, k=1):\n",
    "    k = k if v2>v1 else -k\n",
    "    return v1 + (math.e**(float(k)*t)-1)/(math.e**float(k)-1) * (v2-v1)"
   ]
  },
  {
   "cell_type": "code",
   "execution_count": 12,
   "metadata": {
    "collapsed": false
   },
   "outputs": [],
   "source": [
    "# function def\n",
    "def interp_2D(t, points, ifunc=hcos_interp):\n",
    "\n",
    "    # xs\n",
    "    xs = [p[0] for p in points]\n",
    "    \n",
    "    # nearest xs lower\n",
    "    p1_index = sum([t >= x for x in xs])-1\n",
    "    p1 = points[p1_index][0]\n",
    "    \n",
    "    # nearest xs upper\n",
    "    p2_index = min(sum([t >= x for x in xs]),len(xs)-1)\n",
    "    p2 = points[p2_index][0]\n",
    "    \n",
    "    # delta\n",
    "    dt = (t-p1)/(p2-p1) if (p2-p1) != 0 else t-p1\n",
    "    \n",
    "    # interp\n",
    "    return ifunc(dt, points[p1_index][1], points[p2_index][1])"
   ]
  },
  {
   "cell_type": "code",
   "execution_count": 13,
   "metadata": {
    "collapsed": false
   },
   "outputs": [
    {
     "data": {
      "text/plain": [
       "0.6727457514062631"
      ]
     },
     "execution_count": 13,
     "metadata": {},
     "output_type": "execute_result"
    }
   ],
   "source": [
    "# example use: one call\n",
    "\n",
    "# points 1\n",
    "xs1 = [0, .5, .7, 1]\n",
    "ys1 = [.5, 1, .2, 1]\n",
    "points1 = zip(xs1, ys1)\n",
    "\n",
    "# interp\n",
    "interp_2D(0.2, points1)"
   ]
  },
  {
   "cell_type": "code",
   "execution_count": 14,
   "metadata": {
    "collapsed": false
   },
   "outputs": [
    {
     "name": "stdout",
     "output_type": "stream",
     "text": [
      "0.0 \t0.5\n",
      "0.01 \t0.500493317893\n",
      "0.02 \t0.501971324671\n",
      "0.03 \t0.504428187318\n",
      "0.04 \t0.507854209718\n",
      "0.05 \t0.512235870926\n",
      "0.06 \t0.517555878528\n",
      "0.07 \t0.523793236883\n",
      "0.08 \t0.530923329989\n",
      "0.09 \t0.538918018624\n",
      "0.1 \t0.547745751406\n",
      "0.11 \t0.557371689306\n",
      "0.12 \t0.567757843145\n",
      "0.13 \t0.578863223518\n",
      "0.14 \t0.590644002563\n",
      "0.15 \t0.603053686927\n",
      "0.16 \t0.616043301255\n",
      "0.17 \t0.629561581475\n",
      "0.18 \t0.643555177109\n",
      "0.19 \t0.657968861829\n",
      "0.2 \t0.672745751406\n",
      "0.21 \t0.687827528209\n",
      "0.22 \t0.703154671354\n",
      "0.23 \t0.718666691609\n",
      "0.24 \t0.734302370118\n",
      "0.25 \t0.75\n",
      "0.26 \t0.765697629882\n",
      "0.27 \t0.781333308391\n",
      "0.28 \t0.796845328646\n",
      "0.29 \t0.812172471791\n",
      "0.3 \t0.827254248594\n",
      "0.31 \t0.842031138171\n",
      "0.32 \t0.856444822891\n",
      "0.33 \t0.870438418525\n",
      "0.34 \t0.883956698745\n",
      "0.35 \t0.896946313073\n",
      "0.36 \t0.909355997437\n",
      "0.37 \t0.921136776482\n",
      "0.38 \t0.932242156855\n",
      "0.39 \t0.942628310694\n",
      "0.4 \t0.952254248594\n",
      "0.41 \t0.961081981376\n",
      "0.42 \t0.969076670011\n",
      "0.43 \t0.976206763117\n",
      "0.44 \t0.982444121472\n",
      "0.45 \t0.987764129074\n",
      "0.46 \t0.992145790282\n",
      "0.47 \t0.995571812682\n",
      "0.48 \t0.998028675329\n",
      "0.49 \t0.999506682107\n",
      "0.5 \t1.0\n",
      "0.51 \t0.995075336238\n",
      "0.52 \t0.980422606518\n",
      "0.53 \t0.956402609675\n",
      "0.54 \t0.92360679775\n",
      "0.55 \t0.882842712475\n",
      "0.56 \t0.835114100917\n",
      "0.57 \t0.781596199896\n",
      "0.58 \t0.72360679775\n",
      "0.59 \t0.662573786016\n",
      "0.6 \t0.6\n",
      "0.61 \t0.537426213984\n",
      "0.62 \t0.47639320225\n",
      "0.63 \t0.418403800104\n",
      "0.64 \t0.364885899083\n",
      "0.65 \t0.317157287525\n",
      "0.66 \t0.27639320225\n",
      "0.67 \t0.243597390325\n",
      "0.68 \t0.219577393482\n",
      "0.69 \t0.204924663762\n",
      "0.7 \t0.2\n",
      "0.71 \t0.202191241853\n",
      "0.72 \t0.208740959706\n",
      "0.73 \t0.219577393482\n",
      "0.74 \t0.234581816943\n",
      "0.75 \t0.253589838486\n",
      "0.76 \t0.27639320225\n",
      "0.77 \t0.302742069809\n",
      "0.78 \t0.332347757456\n",
      "0.79 \t0.364885899083\n",
      "0.8 \t0.4\n",
      "0.81 \t0.43730534277\n",
      "0.82 \t0.47639320225\n",
      "0.83 \t0.516835323673\n",
      "0.84 \t0.558188614693\n",
      "0.85 \t0.6\n",
      "0.86 \t0.641811385307\n",
      "0.87 \t0.683164676327\n",
      "0.88 \t0.72360679775\n",
      "0.89 \t0.76269465723\n",
      "0.9 \t0.8\n",
      "0.91 \t0.835114100917\n",
      "0.92 \t0.867652242544\n",
      "0.93 \t0.897257930191\n",
      "0.94 \t0.92360679775\n",
      "0.95 \t0.946410161514\n",
      "0.96 \t0.965418183057\n",
      "0.97 \t0.980422606518\n",
      "0.98 \t0.991259040294\n",
      "0.99 \t0.997808758147\n",
      "1.0 \t1.0\n"
     ]
    }
   ],
   "source": [
    "# example use: step through 0 to 1\n",
    "\n",
    "# points 1\n",
    "xs1 = [0, .5, .7, 1]\n",
    "ys1 = [.5, 1, .2, 1]\n",
    "points1 = zip(xs1, ys1)\n",
    "\n",
    "# interp\n",
    "for i in range(101):\n",
    "    print float(i)/100,\n",
    "    print '\\t',\n",
    "    print interp_2D(float(i)/100, points1)"
   ]
  },
  {
   "cell_type": "code",
   "execution_count": 15,
   "metadata": {
    "collapsed": false
   },
   "outputs": [],
   "source": [
    "# plot function\n",
    "def plot(points, fig=None):\n",
    "    if fig is None: fig = plt.figure(figsize=(12,6))\n",
    "    plt.scatter([p[0] for p in points], [p[1] for p in points])   \n",
    "    ilist = [float(i)/100 for i in range(101)]\n",
    "    interped = [interp_2D(i, points) for i in ilist]\n",
    "    plt.plot(ilist, [p for p in interped]);"
   ]
  },
  {
   "cell_type": "code",
   "execution_count": 16,
   "metadata": {
    "collapsed": false
   },
   "outputs": [
    {
     "data": {
      "image/png": "[encoded data removed]",
      "text/plain": [
       "<matplotlib.figure.Figure at 0x104f23bd0>"
      ]
     },
     "metadata": {},
     "output_type": "display_data"
    }
   ],
   "source": [
    "# points 1\n",
    "xs1 = [0, .5, .7, 1]\n",
    "ys1 = [.5, 1, .2, 1]\n",
    "points1 = zip(xs1, ys1)\n",
    "\n",
    "# points 2\n",
    "xs2 = [0, .3, .6, .9, 1]\n",
    "ys2 = [.7, .1, .5, 1, 0]\n",
    "points2 = zip(xs2, ys2)\n",
    "    \n",
    "# plot\n",
    "fig = plt.figure(figsize=(12,6))\n",
    "plot(points1, fig=fig)\n",
    "plot(points2, fig=fig)"
   ]
  },
  {
   "cell_type": "code",
   "execution_count": 17,
   "metadata": {
    "collapsed": false
   },
   "outputs": [
    {
     "data": {
      "image/png": "[encoded data removed]",
      "text/plain": [
       "<matplotlib.figure.Figure at 0x104f38710>"
      ]
     },
     "metadata": {},
     "output_type": "display_data"
    }
   ],
   "source": [
    "\n",
    "phi = .6180\n",
    "pmempt0 = [ 0.0, .2, .35, .45, phi + .13, .83, .9,  1 ]\n",
    "pmemp0= [ .2, .3, .15, .85, .95, phi, .75, .1 ]\n",
    "points1 = zip(pmempt0, pmemp0)\n",
    "pmempt1= [ 0.0, .05, .35, .45, phi + .13, .83, .9,  1 ]\n",
    "pmemp1 = [ .2, .3, .10, .85, .95, phi, .8, .1 ]\n",
    "points2 = zip(pmempt1, pmemp1)\n",
    "pmempt6 = (0.0, .2, .35, .45, phi + .15, .83, .9,  1 ) \n",
    "pmemp6 =  (2, .3, .15, .85, .95, phi, .75, .1 )\n",
    "points6 = zip(pmempt6, pmemp6)\n",
    "    \n",
    "# plot\n",
    "fig = plt.figure(figsize=(12,6))\n",
    "plot(points1, fig=fig)\n",
    "plot(points2, fig=fig)\n",
    "plot(points6, fig=fig)\n",
    "plt.xlim([0, 1])\n",
    "plt.title(\"Pmem\")\n",
    "plt.savefig(\"Pmem.png\" )"
   ]
  },
  {
   "cell_type": "code",
   "execution_count": 17,
   "metadata": {
    "collapsed": false
   },
   "outputs": [],
   "source": []
  },
  {
   "cell_type": "code",
   "execution_count": null,
   "metadata": {
    "collapsed": false
   },
   "outputs": [],
   "source": []
  }
 ],
 "metadata": {
  "anaconda-cloud": {},
  "kernelspec": {
   "display_name": "Python [default]",
   "language": "python",
   "name": "python3"
  },
  "language_info": {
   "codemirror_mode": {
    "name": "ipython",
    "version": 3
   },
   "file_extension": ".py",
   "mimetype": "text/x-python",
   "name": "python",
   "nbconvert_exporter": "python",
   "pygments_lexer": "ipython3",
   "version": "3.5.2"
  }
 },
 "nbformat": 4,
 "nbformat_minor": 0
}
