{
 "cells": [
  {
   "cell_type": "code",
   "execution_count": 4,
   "metadata": {
    "collapsed": false
   },
   "outputs": [
    {
     "ename": "TypeError",
     "evalue": "findIntersection() missing 3 required positional arguments: 'fun1', 'fun2', and 'x0'",
     "traceback": [
      "\u001b[0;31m---------------------------------------------------------------------------\u001b[0m",
      "\u001b[0;31mTypeError\u001b[0m                                 Traceback (most recent call last)",
      "\u001b[0;32m<ipython-input-4-4e08aa86b898>\u001b[0m in \u001b[0;36m<module>\u001b[0;34m()\u001b[0m\n\u001b[1;32m     23\u001b[0m     \u001b[0;32mreturn\u001b[0m \u001b[0mfsolve\u001b[0m\u001b[0;34m(\u001b[0m\u001b[0;32mlambda\u001b[0m \u001b[0mx\u001b[0m\u001b[0;34m:\u001b[0m \u001b[0mfun1\u001b[0m\u001b[0;34m(\u001b[0m\u001b[0mx\u001b[0m\u001b[0;34m)\u001b[0m \u001b[0;34m-\u001b[0m \u001b[0mfun2\u001b[0m\u001b[0;34m(\u001b[0m\u001b[0mx\u001b[0m\u001b[0;34m)\u001b[0m\u001b[0;34m,\u001b[0m \u001b[0mx0\u001b[0m\u001b[0;34m)\u001b[0m\u001b[0;34m\u001b[0m\u001b[0m\n\u001b[1;32m     24\u001b[0m \u001b[0;34m\u001b[0m\u001b[0m\n\u001b[0;32m---> 25\u001b[0;31m \u001b[0mresult\u001b[0m \u001b[0;34m=\u001b[0m \u001b[0mfindIntersection\u001b[0m\u001b[0;34m(\u001b[0m\u001b[0;34m)\u001b[0m\u001b[0;34m\u001b[0m\u001b[0m\n\u001b[0m\u001b[1;32m     26\u001b[0m \u001b[0;34m\u001b[0m\u001b[0m\n\u001b[1;32m     27\u001b[0m \u001b[0;32mdef\u001b[0m \u001b[0mf1\u001b[0m\u001b[0;34m(\u001b[0m\u001b[0mx\u001b[0m\u001b[0;34m)\u001b[0m\u001b[0;34m:\u001b[0m\u001b[0;34m\u001b[0m\u001b[0m\n",
      "\u001b[0;31mTypeError\u001b[0m: findIntersection() missing 3 required positional arguments: 'fun1', 'fun2', and 'x0'"
     ],
     "output_type": "error"
    }
   ],
   "source": [
    "# given start dur, end dur, number of beats\n",
    "\n",
    "def dur1_dur2_bts(dur1,dur2,bts):\n",
    "    x=(dur2/dur1)**(1/(bts-1))\n",
    "    set=[dur1*(x**i) for i in range(bts)]\n",
    "    return set\n",
    "\n",
    "# given start dur, end dur, approx total time\n",
    "\n",
    "def dur1_dur2_approxdurtot(dur1,dur2,durtot):\n",
    "    duravg=(dur1+dur2)/2\n",
    "    btguess=round(durtot/duravg)\n",
    "    btrange=[i for i in range(round(btguess/2),round(btguess*2))]\n",
    "    q=sorted([[abs(durtot-sum(dur1_dur2_bts(dur1,dur2,i))),dur1_dur2_bts(dur1,dur2,i)] for i in btrange])\n",
    "    return q[0][1]\n",
    "\n",
    "from scipy.optimize import fsolve\n",
    "import pylab\n",
    "import numpy\n",
    "\n",
    "def findIntersection(fun1,fun2,x0):\n",
    "    return fsolve(lambda x: fun1(x) - fun2(x), x0)\n",
    "\n",
    "result = findIntersection()\n",
    "\n",
    "def f1(x):\n",
    "    return (x**19)+(x**18)-(2*x)-(2)\n",
    "\n",
    "def f2(x):\n",
    "    return 0\n",
    "\n",
    "result = findIntersection(f1,f2,0.0)\n",
    "x=numpy.linspace(-2,2,50)\n",
    "pylab.plot(x,f1(x),x,f2(x),result,x1(result),'ro')\n",
    "pylab.show()"
   ]
  },
  {
   "cell_type": "code",
   "execution_count": null,
   "metadata": {
    "collapsed": true
   },
   "outputs": [],
   "source": [
    ""
   ]
  }
 ],
 "metadata": {
  "anaconda-cloud": {},
  "kernelspec": {
   "display_name": "Python [default]",
   "language": "python",
   "name": "python3"
  },
  "language_info": {
   "codemirror_mode": {
    "name": "ipython",
    "version": 3.0
   },
   "file_extension": ".py",
   "mimetype": "text/x-python",
   "name": "python",
   "nbconvert_exporter": "python",
   "pygments_lexer": "ipython3",
   "version": "3.5.2"
  }
 },
 "nbformat": 4,
 "nbformat_minor": 0
}